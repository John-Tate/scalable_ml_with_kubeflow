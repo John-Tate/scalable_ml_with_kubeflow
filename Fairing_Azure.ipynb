{
 "cells": [
  {
   "cell_type": "code",
   "execution_count": null,
   "metadata": {},
   "outputs": [],
   "source": [
    "#Local\n",
    "try:\n",
    "    from kubeflow import fairing\n",
    "\n",
    "#Container\n",
    "except:\n",
    "    !pip install kubeflow-fairing\n",
    "    from kubeflow import fairing"
   ]
  },
  {
   "cell_type": "code",
   "execution_count": null,
   "metadata": {},
   "outputs": [],
   "source": []
  },
  {
   "cell_type": "code",
   "execution_count": null,
   "metadata": {},
   "outputs": [],
   "source": [
    "import sys\n",
    "py_version = \".\".join([str(x) for x in sys.version_info[0:3]])\n",
    "base_image = 'gcr.io/kubeflow-images-public/tensorflow-1.14.0-notebook-cpu:v0.7.0'"
   ]
  },
  {
   "cell_type": "code",
   "execution_count": null,
   "metadata": {},
   "outputs": [],
   "source": [
    "REGISTRY = 'YOUR REGISTRY'\n",
    "DOCKER_REGISTRY = f'{REGISTRY}.azurecr.io'\n",
    "fairing.config.set_builder('append',base_image=base_image, registry=DOCKER_REGISTRY, push=True)\n",
    "fairing.config.set_deployer('job')"
   ]
  },
  {
   "cell_type": "code",
   "execution_count": null,
   "metadata": {},
   "outputs": [],
   "source": [
    "def train():\n",
    "    print(\"hello world!\")"
   ]
  },
  {
   "cell_type": "code",
   "execution_count": null,
   "metadata": {},
   "outputs": [],
   "source": [
    "!az acr login --name {REGISTRY}"
   ]
  },
  {
   "cell_type": "code",
   "execution_count": null,
   "metadata": {},
   "outputs": [],
   "source": [
    "!docker login -u USERNAME -p PASS REGISTRY"
   ]
  },
  {
   "cell_type": "code",
   "execution_count": null,
   "metadata": {},
   "outputs": [],
   "source": []
  },
  {
   "cell_type": "code",
   "execution_count": null,
   "metadata": {
    "scrolled": true
   },
   "outputs": [],
   "source": [
    "\n",
    "\n",
    "remote_train = fairing.config.fn(train)\n",
    "remote_train()\n",
    "\n"
   ]
  },
  {
   "cell_type": "code",
   "execution_count": null,
   "metadata": {},
   "outputs": [],
   "source": [
    "import tensorflow as tf\n"
   ]
  },
  {
   "cell_type": "code",
   "execution_count": null,
   "metadata": {},
   "outputs": [],
   "source": [
    "class trymodel(object):\n",
    "    \n",
    "    \n",
    "    def __init__(self):\n",
    "        self.x,self.y = data,target = make_regression(n_samples=1000,n_features=1,bias=5,n_informative=1,random_state=1)\n",
    "        self.w = None\n",
    "        self.model = False\n",
    "        \n",
    "    def train(self, x=None, y=None):\n",
    "        init = tf.global_variables_initializer()\n",
    "        sess = tf.Session()\n",
    "        sess.run(init)\n",
    "        \n",
    "        if x==None or y==None:\n",
    "            x,y = self.x,self.y\n",
    "        \n",
    "        ones = np.ones((x.shape[0],1))\n",
    "        \n",
    "        x = np.append(ones,x,axis=1)\n",
    "\n",
    "        XtX = tf.matmul(x,x,transpose_a=True)\n",
    "        XtY = tf.matmul(x,y.reshape(1000,1),transpose_a=True)\n",
    "\n",
    "        w = tf.matmul(tf.matrix_inverse(XtX),XtY)\n",
    "        self.w = np.array(sess.run(w))\n",
    "        self.model=True\n",
    "        \n",
    "    def predict(self,x):\n",
    "        if self.model==False:\n",
    "            self.train()\n",
    "            self.model=True\n",
    "            \n",
    "        sess = tf.Session()\n",
    "        x = np.array(x)\n",
    "        x = x.reshape((-1,1))\n",
    "        x = np.append(np.ones((x.shape[0],1)),x,axis=1)\n",
    "    \n",
    "        return sess.run(tf.tensordot(x,self.w,1))\n",
    "    "
   ]
  },
  {
   "cell_type": "code",
   "execution_count": null,
   "metadata": {},
   "outputs": [],
   "source": [
    "m = trymodel()\n",
    "m.train()"
   ]
  },
  {
   "cell_type": "code",
   "execution_count": null,
   "metadata": {},
   "outputs": [],
   "source": [
    "pred = fairing.PredictionEndpoint(trymodel,docker_registry=DOCKER_REGISTRY,base_docker_image=base_image)"
   ]
  },
  {
   "cell_type": "code",
   "execution_count": null,
   "metadata": {
    "scrolled": true
   },
   "outputs": [],
   "source": [
    "pred.create()"
   ]
  },
  {
   "cell_type": "code",
   "execution_count": null,
   "metadata": {},
   "outputs": [],
   "source": []
  }
 ],
 "metadata": {
  "kernelspec": {
   "display_name": "Python [conda env:kf]",
   "language": "python",
   "name": "conda-env-kf-py"
  },
  "language_info": {
   "codemirror_mode": {
    "name": "ipython",
    "version": 3
   },
   "file_extension": ".py",
   "mimetype": "text/x-python",
   "name": "python",
   "nbconvert_exporter": "python",
   "pygments_lexer": "ipython3",
   "version": "3.6.8"
  }
 },
 "nbformat": 4,
 "nbformat_minor": 2
}
